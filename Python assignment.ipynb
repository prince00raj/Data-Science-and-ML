{
 "cells": [
  {
   "cell_type": "code",
   "execution_count": 27,
   "id": "868e3d63",
   "metadata": {},
   "outputs": [],
   "source": [
    "def filter_even(number_list):\n",
    "    result_list=[]\n",
    "    for val in number_list:\n",
    "        if val % 2==0:\n",
    "            print(\"number is even, adding to the list\")\n",
    "            result_list.append(val)\n",
    "    return result_list"
   ]
  },
  {
   "cell_type": "code",
   "execution_count": 28,
   "id": "10fbf81d",
   "metadata": {},
   "outputs": [],
   "source": [
    "input_list=[1,2,2,4,6,7,8,9,10,12,13]"
   ]
  },
  {
   "cell_type": "code",
   "execution_count": 29,
   "id": "46d29afc",
   "metadata": {},
   "outputs": [],
   "source": [
    "result_list=[]"
   ]
  },
  {
   "cell_type": "code",
   "execution_count": 30,
   "id": "ad1ad1ef",
   "metadata": {},
   "outputs": [
    {
     "name": "stdout",
     "output_type": "stream",
     "text": [
      "number : 1\n",
      "number : 2\n",
      "number is even, adding to list\n",
      "number : 2\n",
      "number is even, adding to list\n",
      "number : 4\n",
      "number is even, adding to list\n",
      "number : 6\n",
      "number is even, adding to list\n",
      "number : 7\n",
      "number : 8\n",
      "number is even, adding to list\n",
      "number : 9\n",
      "number : 10\n",
      "number is even, adding to list\n",
      "number : 12\n",
      "number is even, adding to list\n",
      "number : 13\n"
     ]
    }
   ],
   "source": [
    "for val in input_list:\n",
    "    print(\"number :\", val)\n",
    "    if val%2==0:\n",
    "        print(\"number is even, adding to list\")\n",
    "        result_list.append(val)\n",
    "    "
   ]
  },
  {
   "cell_type": "code",
   "execution_count": 31,
   "id": "caa6c249",
   "metadata": {},
   "outputs": [
    {
     "data": {
      "text/plain": [
       "[2, 2, 4, 6, 8, 10, 12]"
      ]
     },
     "execution_count": 31,
     "metadata": {},
     "output_type": "execute_result"
    }
   ],
   "source": [
    "result_list"
   ]
  },
  {
   "cell_type": "code",
   "execution_count": 33,
   "id": "e8ad3a6a",
   "metadata": {},
   "outputs": [
    {
     "name": "stdout",
     "output_type": "stream",
     "text": [
      "number is even, adding to the list\n",
      "number is even, adding to the list\n",
      "number is even, adding to the list\n",
      "number is even, adding to the list\n",
      "number is even, adding to the list\n",
      "number is even, adding to the list\n",
      "number is even, adding to the list\n"
     ]
    }
   ],
   "source": [
    "even_list = filter_even([1,2,2,4,6,7,8,9,10,12,13])"
   ]
  },
  {
   "cell_type": "code",
   "execution_count": 34,
   "id": "e1026432",
   "metadata": {},
   "outputs": [
    {
     "data": {
      "text/plain": [
       "[2, 2, 4, 6, 8, 10, 12]"
      ]
     },
     "execution_count": 34,
     "metadata": {},
     "output_type": "execute_result"
    }
   ],
   "source": [
    "even_list"
   ]
  },
  {
   "cell_type": "raw",
   "id": "1647b53a",
   "metadata": {},
   "source": [
    "Shaun is currenly paying back a home loan for a house a few years go. The cost of the house was $800,000 . Shaun made a down payment of 25% of the cost, and financed the remaining amount using a 6-year loan with an interest rate of 7% per annum (compounded monthly). Shaun is now buying a car worth $60,000, which he is planning to finance using a 1-year loan with an interest rate of 12% per annum. Both loans are paid back in EMls. What is the total monthly payment Shaun makes towards loan repayment?"
   ]
  },
  {
   "cell_type": "code",
   "execution_count": 102,
   "id": "42ee6376",
   "metadata": {},
   "outputs": [],
   "source": [
    "def loan_emi(amount,rate,duration,dp=0):\n",
    "    import math\n",
    "    loan_amt=amount-dp\n",
    "    emi=loan_amt*rate*((1+rate)**duration)/((1+rate)**duration-1)\n",
    "    emi = math.ceil(emi)\n",
    "    return emi\n"
   ]
  },
  {
   "cell_type": "code",
   "execution_count": 103,
   "id": "7a11665a",
   "metadata": {},
   "outputs": [],
   "source": [
    "emihome=loan_emi(800000,0.07/12,6*12,200000)"
   ]
  },
  {
   "cell_type": "code",
   "execution_count": 104,
   "id": "77c2565e",
   "metadata": {},
   "outputs": [
    {
     "data": {
      "text/plain": [
       "10230"
      ]
     },
     "execution_count": 104,
     "metadata": {},
     "output_type": "execute_result"
    }
   ],
   "source": [
    "emihome"
   ]
  },
  {
   "cell_type": "code",
   "execution_count": 105,
   "id": "0035c51b",
   "metadata": {},
   "outputs": [],
   "source": [
    "emicar=loan_emi(60000,0.12/12,12)"
   ]
  },
  {
   "cell_type": "code",
   "execution_count": 106,
   "id": "c98471ed",
   "metadata": {},
   "outputs": [
    {
     "data": {
      "text/plain": [
       "5331"
      ]
     },
     "execution_count": 106,
     "metadata": {},
     "output_type": "execute_result"
    }
   ],
   "source": [
    "emicar"
   ]
  },
  {
   "cell_type": "code",
   "execution_count": 109,
   "id": "c9bd63e5",
   "metadata": {},
   "outputs": [
    {
     "name": "stdout",
     "output_type": "stream",
     "text": [
      "total loan to be cleared is 15561\n"
     ]
    }
   ],
   "source": [
    "print(\"total loan to be cleared is {}\".format(emihome+emicar))"
   ]
  },
  {
   "cell_type": "code",
   "execution_count": null,
   "id": "7f97b5a7",
   "metadata": {},
   "outputs": [],
   "source": []
  }
 ],
 "metadata": {
  "kernelspec": {
   "display_name": "Python 3 (ipykernel)",
   "language": "python",
   "name": "python3"
  },
  "language_info": {
   "codemirror_mode": {
    "name": "ipython",
    "version": 3
   },
   "file_extension": ".py",
   "mimetype": "text/x-python",
   "name": "python",
   "nbconvert_exporter": "python",
   "pygments_lexer": "ipython3",
   "version": "3.11.5"
  }
 },
 "nbformat": 4,
 "nbformat_minor": 5
}
