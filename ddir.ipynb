{
 "cells": [
  {
   "cell_type": "markdown",
   "id": "0f8170c5",
   "metadata": {},
   "source": [
    "## INTERACTING WITH THE OS AND FILE SYSTEM"
   ]
  },
  {
   "cell_type": "code",
   "execution_count": 3,
   "id": "e367d40f",
   "metadata": {},
   "outputs": [],
   "source": [
    "import os"
   ]
  },
  {
   "cell_type": "code",
   "execution_count": 5,
   "id": "6348e7d7",
   "metadata": {},
   "outputs": [
    {
     "data": {
      "text/plain": [
       "'/Users/prince00raj'"
      ]
     },
     "execution_count": 5,
     "metadata": {},
     "output_type": "execute_result"
    }
   ],
   "source": [
    "os.getcwd()"
   ]
  },
  {
   "cell_type": "code",
   "execution_count": 7,
   "id": "1716d666",
   "metadata": {},
   "outputs": [
    {
     "data": {
      "text/plain": [
       "['Untitled Folder',\n",
       " '.config',\n",
       " 'Personal',\n",
       " 'Music',\n",
       " '.condarc',\n",
       " '.zprofile.macports-saved_2023-03-22_at_13:09:20',\n",
       " '.docker',\n",
       " 'Algorithm for QUES 2 SELECTION SORT.docx',\n",
       " '.azd',\n",
       " '.DS_Store',\n",
       " 'Intersection algo.docx',\n",
       " 'VirtualBox VMs',\n",
       " '.CFUserTextEncoding',\n",
       " '.xonshrc',\n",
       " '.zprofile.bak',\n",
       " 'Untitled.ipynb',\n",
       " '.zshrc',\n",
       " '.local',\n",
       " 'Pictures',\n",
       " 'Algorithm for factorial.docx',\n",
       " '.openMSX',\n",
       " '.zprofile',\n",
       " 'Oracle',\n",
       " 'D0DCD283-6291-411B-ADFD-798B16BD5D4E.png',\n",
       " 'Algorithm for Ques 1.docx',\n",
       " '.zsh_history',\n",
       " '.ipython',\n",
       " 'Desktop',\n",
       " 'Library',\n",
       " '~$ sec C.docx',\n",
       " '.matplotlib',\n",
       " '.oracle_jre_usage',\n",
       " 'Python assignment.ipynb',\n",
       " 'Semester 2',\n",
       " 'SQLQuery_1.sql',\n",
       " '.android',\n",
       " 'SQLQuery_2.sql',\n",
       " 'Public',\n",
       " 'SQLQuery_3.sql',\n",
       " 'DS notes',\n",
       " '.idlerc',\n",
       " '.tcshrc',\n",
       " '.venv',\n",
       " '.anaconda',\n",
       " 'Movies',\n",
       " 'Applications',\n",
       " '.Trash',\n",
       " 'IdeaProjects',\n",
       " '.sqldeveloper',\n",
       " '.ipynb_checkpoints',\n",
       " '.jupyter',\n",
       " 'Documents',\n",
       " '.azuredatastudio',\n",
       " 'venv',\n",
       " '.anydesk',\n",
       " '~$A_V20UDS103_EC2331201010256.docx',\n",
       " '~$iz cheat sheet.docx',\n",
       " '.vscode',\n",
       " '.bash_profile',\n",
       " 'anaconda3',\n",
       " 'Downloads',\n",
       " '.python_history',\n",
       " '.continuum',\n",
       " '.gitconfig',\n",
       " '.zsh_sessions',\n",
       " 'Bhandara DSA.docx',\n",
       " '.conda',\n",
       " 'Algorithm for ques 5.docx',\n",
       " 'Module 4 QUESTIONARIES.docx']"
      ]
     },
     "execution_count": 7,
     "metadata": {},
     "output_type": "execute_result"
    }
   ],
   "source": [
    "os.listdir()"
   ]
  },
  {
   "cell_type": "code",
   "execution_count": 9,
   "id": "4e04f9b3",
   "metadata": {},
   "outputs": [
    {
     "name": "stdout",
     "output_type": "stream",
     "text": [
      "Help on built-in function listdir in module posix:\n",
      "\n",
      "listdir(path=None)\n",
      "    Return a list containing the names of the files in the directory.\n",
      "    \n",
      "    path can be specified as either str, bytes, or a path-like object.  If path is bytes,\n",
      "      the filenames returned will also be bytes; in all other circumstances\n",
      "      the filenames returned will be str.\n",
      "    If path is None, uses the path='.'.\n",
      "    On some platforms, path may also be specified as an open file descriptor;\\\n",
      "      the file descriptor must refer to a directory.\n",
      "      If this functionality is unavailable, using it raises NotImplementedError.\n",
      "    \n",
      "    The list is in arbitrary order.  It does not include the special\n",
      "    entries '.' and '..' even if they are present in the directory.\n",
      "\n"
     ]
    }
   ],
   "source": [
    "help(os.listdir)"
   ]
  },
  {
   "cell_type": "code",
   "execution_count": 13,
   "id": "c6514960",
   "metadata": {},
   "outputs": [
    {
     "data": {
      "text/plain": [
       "['Untitled Folder',\n",
       " '.config',\n",
       " 'Personal',\n",
       " 'Music',\n",
       " '.condarc',\n",
       " '.zprofile.macports-saved_2023-03-22_at_13:09:20',\n",
       " '.docker',\n",
       " 'Algorithm for QUES 2 SELECTION SORT.docx',\n",
       " '.azd',\n",
       " '.DS_Store',\n",
       " 'Intersection algo.docx',\n",
       " 'VirtualBox VMs',\n",
       " '.CFUserTextEncoding',\n",
       " '.xonshrc',\n",
       " '.zprofile.bak',\n",
       " 'Untitled.ipynb',\n",
       " '.zshrc',\n",
       " '.local',\n",
       " 'Pictures',\n",
       " 'Algorithm for factorial.docx',\n",
       " '.openMSX',\n",
       " '.zprofile',\n",
       " 'Oracle',\n",
       " 'D0DCD283-6291-411B-ADFD-798B16BD5D4E.png',\n",
       " 'Algorithm for Ques 1.docx',\n",
       " '.zsh_history',\n",
       " '.ipython',\n",
       " 'Desktop',\n",
       " 'Library',\n",
       " '~$ sec C.docx',\n",
       " '.matplotlib',\n",
       " '.oracle_jre_usage',\n",
       " 'Python assignment.ipynb',\n",
       " 'Semester 2',\n",
       " 'SQLQuery_1.sql',\n",
       " '.android',\n",
       " 'SQLQuery_2.sql',\n",
       " 'Public',\n",
       " 'SQLQuery_3.sql',\n",
       " 'DS notes',\n",
       " '.idlerc',\n",
       " '.tcshrc',\n",
       " '.venv',\n",
       " '.anaconda',\n",
       " 'Movies',\n",
       " 'Applications',\n",
       " '.Trash',\n",
       " 'IdeaProjects',\n",
       " '.sqldeveloper',\n",
       " '.ipynb_checkpoints',\n",
       " '.jupyter',\n",
       " 'Documents',\n",
       " '.azuredatastudio',\n",
       " 'venv',\n",
       " '.anydesk',\n",
       " '~$A_V20UDS103_EC2331201010256.docx',\n",
       " '~$iz cheat sheet.docx',\n",
       " '.vscode',\n",
       " '.bash_profile',\n",
       " 'anaconda3',\n",
       " 'Downloads',\n",
       " '.python_history',\n",
       " '.continuum',\n",
       " '.gitconfig',\n",
       " '.zsh_sessions',\n",
       " 'Bhandara DSA.docx',\n",
       " '.conda',\n",
       " 'Algorithm for ques 5.docx',\n",
       " 'Module 4 QUESTIONARIES.docx']"
      ]
     },
     "execution_count": 13,
     "metadata": {},
     "output_type": "execute_result"
    }
   ],
   "source": [
    "os.listdir('.')"
   ]
  },
  {
   "cell_type": "code",
   "execution_count": 15,
   "id": "c3eb353b",
   "metadata": {},
   "outputs": [
    {
     "data": {
      "text/plain": [
       "['bin',\n",
       " 'standalone',\n",
       " 'libexec',\n",
       " 'sbin',\n",
       " 'local',\n",
       " 'lib',\n",
       " 'X11',\n",
       " 'X11R6',\n",
       " 'share']"
      ]
     },
     "execution_count": 15,
     "metadata": {},
     "output_type": "execute_result"
    }
   ],
   "source": [
    "os.listdir('/usr')"
   ]
  },
  {
   "cell_type": "code",
   "execution_count": 18,
   "id": "821dffdc",
   "metadata": {},
   "outputs": [
    {
     "data": {
      "text/plain": [
       "['Untitled Folder',\n",
       " '.config',\n",
       " 'Personal',\n",
       " 'Music',\n",
       " '.condarc',\n",
       " '.zprofile.macports-saved_2023-03-22_at_13:09:20',\n",
       " '.docker',\n",
       " 'Algorithm for QUES 2 SELECTION SORT.docx',\n",
       " '.azd',\n",
       " '.DS_Store',\n",
       " 'Intersection algo.docx',\n",
       " 'VirtualBox VMs',\n",
       " '.CFUserTextEncoding',\n",
       " '.xonshrc',\n",
       " '.zprofile.bak',\n",
       " 'Untitled.ipynb',\n",
       " '.zshrc',\n",
       " '.local',\n",
       " 'Pictures',\n",
       " 'Algorithm for factorial.docx',\n",
       " '.openMSX',\n",
       " '.zprofile',\n",
       " 'Oracle',\n",
       " 'D0DCD283-6291-411B-ADFD-798B16BD5D4E.png',\n",
       " 'Algorithm for Ques 1.docx',\n",
       " '.zsh_history',\n",
       " '.ipython',\n",
       " 'Desktop',\n",
       " 'Library',\n",
       " '~$ sec C.docx',\n",
       " '.matplotlib',\n",
       " '.oracle_jre_usage',\n",
       " 'Python assignment.ipynb',\n",
       " 'Semester 2',\n",
       " 'SQLQuery_1.sql',\n",
       " '.android',\n",
       " 'SQLQuery_2.sql',\n",
       " 'Public',\n",
       " 'SQLQuery_3.sql',\n",
       " 'DS notes',\n",
       " '.idlerc',\n",
       " '.tcshrc',\n",
       " '.venv',\n",
       " '.anaconda',\n",
       " 'Movies',\n",
       " 'Applications',\n",
       " '.Trash',\n",
       " 'IdeaProjects',\n",
       " '.sqldeveloper',\n",
       " '.ipynb_checkpoints',\n",
       " '.jupyter',\n",
       " 'Documents',\n",
       " '.azuredatastudio',\n",
       " 'venv',\n",
       " '.anydesk',\n",
       " '~$A_V20UDS103_EC2331201010256.docx',\n",
       " '~$iz cheat sheet.docx',\n",
       " '.vscode',\n",
       " '.bash_profile',\n",
       " 'anaconda3',\n",
       " 'Downloads',\n",
       " '.python_history',\n",
       " '.continuum',\n",
       " '.gitconfig',\n",
       " '.zsh_sessions',\n",
       " 'Bhandara DSA.docx',\n",
       " '.conda',\n",
       " 'Algorithm for ques 5.docx',\n",
       " 'Module 4 QUESTIONARIES.docx']"
      ]
     },
     "execution_count": 18,
     "metadata": {},
     "output_type": "execute_result"
    }
   ],
   "source": [
    "os.listdir('/Users/prince00raj')"
   ]
  },
  {
   "cell_type": "code",
   "execution_count": 28,
   "id": "b05a70e8",
   "metadata": {},
   "outputs": [],
   "source": [
    "os.makedirs('./ss', exist_ok = True)"
   ]
  },
  {
   "cell_type": "code",
   "execution_count": 30,
   "id": "06c1354e",
   "metadata": {},
   "outputs": [
    {
     "data": {
      "text/plain": [
       "['Untitled Folder',\n",
       " '.config',\n",
       " 'Personal',\n",
       " 'Music',\n",
       " '.condarc',\n",
       " '.zprofile.macports-saved_2023-03-22_at_13:09:20',\n",
       " '.docker',\n",
       " 'Algorithm for QUES 2 SELECTION SORT.docx',\n",
       " '.azd',\n",
       " '.DS_Store',\n",
       " 'Intersection algo.docx',\n",
       " 'VirtualBox VMs',\n",
       " '.CFUserTextEncoding',\n",
       " '.xonshrc',\n",
       " '.zprofile.bak',\n",
       " 'Untitled.ipynb',\n",
       " '.zshrc',\n",
       " '.local',\n",
       " 'Pictures',\n",
       " 'Algorithm for factorial.docx',\n",
       " '.openMSX',\n",
       " '.zprofile',\n",
       " 'Oracle',\n",
       " 'D0DCD283-6291-411B-ADFD-798B16BD5D4E.png',\n",
       " 'Algorithm for Ques 1.docx',\n",
       " '.zsh_history',\n",
       " '.ipython',\n",
       " 'Desktop',\n",
       " 'Library',\n",
       " '~$ sec C.docx',\n",
       " '.matplotlib',\n",
       " '.oracle_jre_usage',\n",
       " 'Python assignment.ipynb',\n",
       " 'ss',\n",
       " 'Semester 2',\n",
       " 'SQLQuery_1.sql',\n",
       " '.android',\n",
       " 'SQLQuery_2.sql',\n",
       " 'Public',\n",
       " 'SQLQuery_3.sql',\n",
       " 'DS notes',\n",
       " '.idlerc',\n",
       " '.tcshrc',\n",
       " '.venv',\n",
       " '.anaconda',\n",
       " 'Movies',\n",
       " 'Applications',\n",
       " '.Trash',\n",
       " 'IdeaProjects',\n",
       " '.sqldeveloper',\n",
       " '.ipynb_checkpoints',\n",
       " '.jupyter',\n",
       " 'Documents',\n",
       " '.azuredatastudio',\n",
       " 'venv',\n",
       " '.anydesk',\n",
       " '~$A_V20UDS103_EC2331201010256.docx',\n",
       " '~$iz cheat sheet.docx',\n",
       " '.vscode',\n",
       " '.bash_profile',\n",
       " 'data',\n",
       " 'anaconda3',\n",
       " 'Downloads',\n",
       " '.python_history',\n",
       " '.continuum',\n",
       " '.gitconfig',\n",
       " '.zsh_sessions',\n",
       " 'Bhandara DSA.docx',\n",
       " '.conda',\n",
       " 'Algorithm for ques 5.docx',\n",
       " 'Module 4 QUESTIONARIES.docx']"
      ]
     },
     "execution_count": 30,
     "metadata": {},
     "output_type": "execute_result"
    }
   ],
   "source": [
    "os.listdir('.')"
   ]
  },
  {
   "cell_type": "code",
   "execution_count": 32,
   "id": "b5dd355d",
   "metadata": {},
   "outputs": [
    {
     "data": {
      "text/plain": [
       "True"
      ]
     },
     "execution_count": 32,
     "metadata": {},
     "output_type": "execute_result"
    }
   ],
   "source": [
    "'ss' in os.listdir('.')"
   ]
  },
  {
   "cell_type": "code",
   "execution_count": 35,
   "id": "40d038c8",
   "metadata": {},
   "outputs": [
    {
     "data": {
      "text/plain": [
       "[]"
      ]
     },
     "execution_count": 35,
     "metadata": {},
     "output_type": "execute_result"
    }
   ],
   "source": [
    "os.listdir('./ss')"
   ]
  },
  {
   "cell_type": "markdown",
   "id": "45a3749f",
   "metadata": {},
   "source": [
    "## FILE 1 (Loan amount.txt)"
   ]
  },
  {
   "cell_type": "code",
   "execution_count": 183,
   "id": "cba0c5e7",
   "metadata": {},
   "outputs": [],
   "source": [
    "##url1='https://docs.google.com/spreadsheets/d/1SF7_RQi8nxf6ppd8cp2ZYh-BCwGVqp4QKf0ze0eUyT8/edit?usp=sharing'"
   ]
  },
  {
   "cell_type": "code",
   "execution_count": 57,
   "id": "36608b36",
   "metadata": {},
   "outputs": [],
   "source": [
    "##import urllib.request"
   ]
  },
  {
   "cell_type": "code",
   "execution_count": 58,
   "id": "446f9790",
   "metadata": {},
   "outputs": [
    {
     "data": {
      "text/plain": [
       "('./ss/dataset.csv', <http.client.HTTPMessage at 0x1073f7d90>)"
      ]
     },
     "execution_count": 58,
     "metadata": {},
     "output_type": "execute_result"
    }
   ],
   "source": [
    "urllib.request.urlretrieve(url1,'./ss/dataset.csv')"
   ]
  },
  {
   "cell_type": "code",
   "execution_count": 205,
   "id": "a9d75f4b",
   "metadata": {},
   "outputs": [
    {
     "data": {
      "text/plain": [
       "['name.csv', '.ipynb_checkpoints', 'Loan amount.txt']"
      ]
     },
     "execution_count": 205,
     "metadata": {},
     "output_type": "execute_result"
    }
   ],
   "source": [
    "os.listdir('./ss')"
   ]
  },
  {
   "cell_type": "code",
   "execution_count": 206,
   "id": "3847b516",
   "metadata": {},
   "outputs": [],
   "source": [
    "file1=open('./ss/Loan amount.txt', mode='r')"
   ]
  },
  {
   "cell_type": "code",
   "execution_count": 207,
   "id": "d5f61f05",
   "metadata": {},
   "outputs": [],
   "source": [
    "file1_contents=file1.readlines()"
   ]
  },
  {
   "cell_type": "code",
   "execution_count": 208,
   "id": "00b84533",
   "metadata": {},
   "outputs": [
    {
     "name": "stdout",
     "output_type": "stream",
     "text": [
      "['Loan amount,Duration,Rate,Down Payment\\n', '883000,16,0.14\\n', '45230,48,0.07,4300\\n', '100000,12,0.01\\n', '728400,120,0.12,100000\\n', '3637400,240,0.06\\n', '82900,90,0.07,8900\\n', '316000,16,0.13\\n', '15230,48,0.08\\n', '323000,27,0.09,4720010000,36,0.08,20000\\n', '528400,120,0.11,100000\\n', '8633400,240,0.06\\n', '12900,90,0.08,8900\\n', '\\n']\n"
     ]
    }
   ],
   "source": [
    "print(file1_contents)"
   ]
  },
  {
   "cell_type": "code",
   "execution_count": 211,
   "id": "45de527b",
   "metadata": {},
   "outputs": [],
   "source": [
    "def parse_header(header_line):\n",
    "    return header_line.strip().split(',')"
   ]
  },
  {
   "cell_type": "code",
   "execution_count": 212,
   "id": "7959872c",
   "metadata": {},
   "outputs": [],
   "source": [
    "header=parse_header(file1_contents[0])"
   ]
  },
  {
   "cell_type": "code",
   "execution_count": 213,
   "id": "740c770f",
   "metadata": {},
   "outputs": [
    {
     "data": {
      "text/plain": [
       "['Loan amount', 'Duration', 'Rate', 'Down Payment']"
      ]
     },
     "execution_count": 213,
     "metadata": {},
     "output_type": "execute_result"
    }
   ],
   "source": [
    "header"
   ]
  },
  {
   "cell_type": "code",
   "execution_count": 220,
   "id": "5cf40493",
   "metadata": {},
   "outputs": [],
   "source": [
    "def parse_values(data_line):\n",
    "    values = []\n",
    "    for item in data_line.strip().split(','):\n",
    "        values.append(float(item))\n",
    "    return values"
   ]
  },
  {
   "cell_type": "code",
   "execution_count": 221,
   "id": "8eaf4b22",
   "metadata": {},
   "outputs": [],
   "source": [
    "line3=parse_values(file1_contents[3])"
   ]
  },
  {
   "cell_type": "code",
   "execution_count": 223,
   "id": "4b6ad67a",
   "metadata": {},
   "outputs": [
    {
     "data": {
      "text/plain": [
       "'100000,12,0.01\\n'"
      ]
     },
     "execution_count": 223,
     "metadata": {},
     "output_type": "execute_result"
    }
   ],
   "source": [
    "file1_contents[3]"
   ]
  },
  {
   "cell_type": "code",
   "execution_count": null,
   "id": "faad2a6d",
   "metadata": {},
   "outputs": [],
   "source": [
    "import"
   ]
  },
  {
   "cell_type": "code",
   "execution_count": null,
   "id": "2ad53b03",
   "metadata": {},
   "outputs": [],
   "source": []
  },
  {
   "cell_type": "code",
   "execution_count": 202,
   "id": "b0fd17e0",
   "metadata": {},
   "outputs": [],
   "source": [
    "file1.close()"
   ]
  },
  {
   "cell_type": "markdown",
   "id": "cb7f687b",
   "metadata": {},
   "source": [
    "## If i open want to copy file contents, and i dont want to close my file, i can use with function"
   ]
  },
  {
   "cell_type": "code",
   "execution_count": 209,
   "id": "a7a9c49e",
   "metadata": {},
   "outputs": [
    {
     "name": "stdout",
     "output_type": "stream",
     "text": [
      "['Loan amount,Duration,Rate,Down Payment\\n', '883000,16,0.14\\n', '45230,48,0.07,4300\\n', '100000,12,0.01\\n', '728400,120,0.12,100000\\n', '3637400,240,0.06\\n', '82900,90,0.07,8900\\n', '316000,16,0.13\\n', '15230,48,0.08\\n', '323000,27,0.09,4720010000,36,0.08,20000\\n', '528400,120,0.11,100000\\n', '8633400,240,0.06\\n', '12900,90,0.08,8900\\n', '\\n']\n"
     ]
    }
   ],
   "source": [
    "with open('./ss/Loan amount.txt','r') as file1:\n",
    "    file1_contents=file1.readlines()\n",
    "    print(file1_contents)"
   ]
  },
  {
   "cell_type": "markdown",
   "id": "6a52ea0f",
   "metadata": {},
   "source": [
    "## FILE 2 (NAMES.CSV)"
   ]
  },
  {
   "cell_type": "code",
   "execution_count": 194,
   "id": "28891b03",
   "metadata": {},
   "outputs": [],
   "source": [
    "##url2='https://drive.google.com/file/d/1aIPtQBDc6-Wjw3GtVe3jqpupfq0kOG7N/view?usp=sharing'"
   ]
  },
  {
   "cell_type": "code",
   "execution_count": 156,
   "id": "330fdbe4",
   "metadata": {},
   "outputs": [],
   "source": [
    "##import urllib.request"
   ]
  },
  {
   "cell_type": "code",
   "execution_count": 157,
   "id": "c78f7f65",
   "metadata": {},
   "outputs": [
    {
     "data": {
      "text/plain": [
       "('./ss/names.txt', <http.client.HTTPMessage at 0x11095f050>)"
      ]
     },
     "execution_count": 157,
     "metadata": {},
     "output_type": "execute_result"
    }
   ],
   "source": [
    "##urllib.request.urlretrieve(url2,'./ss/names.txt')\n"
   ]
  },
  {
   "cell_type": "code",
   "execution_count": 195,
   "id": "2dfa4ede",
   "metadata": {},
   "outputs": [
    {
     "data": {
      "text/plain": [
       "['name.csv', '.ipynb_checkpoints', 'Loan amount.txt']"
      ]
     },
     "execution_count": 195,
     "metadata": {},
     "output_type": "execute_result"
    }
   ],
   "source": [
    "os.listdir('./ss')"
   ]
  },
  {
   "cell_type": "code",
   "execution_count": 159,
   "id": "8aab1279",
   "metadata": {},
   "outputs": [],
   "source": [
    "file2=open('./ss/name.csv', mode='r')"
   ]
  },
  {
   "cell_type": "code",
   "execution_count": 160,
   "id": "905b4f16",
   "metadata": {},
   "outputs": [
    {
     "name": "stdout",
     "output_type": "stream",
     "text": [
      "['Name,Age,Marks\\n', 'Shashwat,21,89\\n', 'Prince,21,90\\n', 'Sampat,21,88\\n', 'Paramjeet,24,79\\n', 'Faizal,19,87\\n', 'Dev,20,85\\n', 'Aditi,23,90\\n', 'Varsha,26,73\\n', 'Divyanshi,18,80']\n"
     ]
    }
   ],
   "source": [
    "with open('./ss/name.csv','r') as file2:\n",
    "    file2_contents=file2.readlines()\n",
    "    print(file2_contents)"
   ]
  },
  {
   "cell_type": "code",
   "execution_count": 162,
   "id": "93d1ff50",
   "metadata": {},
   "outputs": [
    {
     "data": {
      "text/plain": [
       "['Name,Age,Marks\\n',\n",
       " 'Shashwat,21,89\\n',\n",
       " 'Prince,21,90\\n',\n",
       " 'Sampat,21,88\\n',\n",
       " 'Paramjeet,24,79\\n',\n",
       " 'Faizal,19,87\\n',\n",
       " 'Dev,20,85\\n',\n",
       " 'Aditi,23,90\\n',\n",
       " 'Varsha,26,73\\n',\n",
       " 'Divyanshi,18,80']"
      ]
     },
     "execution_count": 162,
     "metadata": {},
     "output_type": "execute_result"
    }
   ],
   "source": [
    "file2_contents"
   ]
  },
  {
   "cell_type": "code",
   "execution_count": 187,
   "id": "e1a61bea",
   "metadata": {},
   "outputs": [],
   "source": [
    "file2.close()"
   ]
  },
  {
   "cell_type": "code",
   "execution_count": null,
   "id": "c39a9552",
   "metadata": {},
   "outputs": [],
   "source": []
  },
  {
   "cell_type": "code",
   "execution_count": 164,
   "id": "49a9cc2d",
   "metadata": {},
   "outputs": [
    {
     "data": {
      "text/plain": [
       "'Name,Age,Marks\\n'"
      ]
     },
     "execution_count": 164,
     "metadata": {},
     "output_type": "execute_result"
    }
   ],
   "source": [
    "file2_contents[0]"
   ]
  },
  {
   "cell_type": "code",
   "execution_count": 165,
   "id": "b1380503",
   "metadata": {},
   "outputs": [
    {
     "data": {
      "text/plain": [
       "'Name,Age,Marks'"
      ]
     },
     "execution_count": 165,
     "metadata": {},
     "output_type": "execute_result"
    }
   ],
   "source": [
    "file2_contents[0].strip()"
   ]
  },
  {
   "cell_type": "code",
   "execution_count": 166,
   "id": "1ecc499d",
   "metadata": {},
   "outputs": [],
   "source": [
    "def parse_header(header_line):\n",
    "    return header_line.strip().split(',')"
   ]
  },
  {
   "cell_type": "code",
   "execution_count": 167,
   "id": "e2571411",
   "metadata": {},
   "outputs": [
    {
     "data": {
      "text/plain": [
       "'Name,Age,Marks\\n'"
      ]
     },
     "execution_count": 167,
     "metadata": {},
     "output_type": "execute_result"
    }
   ],
   "source": [
    "file2_contents[0]"
   ]
  },
  {
   "cell_type": "code",
   "execution_count": 168,
   "id": "d20f1da1",
   "metadata": {},
   "outputs": [],
   "source": [
    "headers=parse_header(file2_contents[0])"
   ]
  },
  {
   "cell_type": "code",
   "execution_count": 169,
   "id": "834a7fad",
   "metadata": {},
   "outputs": [
    {
     "data": {
      "text/plain": [
       "['Name', 'Age', 'Marks']"
      ]
     },
     "execution_count": 169,
     "metadata": {},
     "output_type": "execute_result"
    }
   ],
   "source": [
    "headers"
   ]
  },
  {
   "cell_type": "code",
   "execution_count": 170,
   "id": "6045e8f3",
   "metadata": {},
   "outputs": [
    {
     "data": {
      "text/plain": [
       "'Shashwat,21,89\\n'"
      ]
     },
     "execution_count": 170,
     "metadata": {},
     "output_type": "execute_result"
    }
   ],
   "source": [
    "file2_contents[1]"
   ]
  },
  {
   "cell_type": "markdown",
   "id": "bb2bd42d",
   "metadata": {},
   "source": [
    "## converting marks int to float"
   ]
  },
  {
   "cell_type": "code",
   "execution_count": 182,
   "id": "c56cdb42",
   "metadata": {},
   "outputs": [
    {
     "ename": "SyntaxError",
     "evalue": "'break' outside loop (1353745096.py, line 4)",
     "output_type": "error",
     "traceback": [
      "\u001b[0;36m  Cell \u001b[0;32mIn[182], line 4\u001b[0;36m\u001b[0m\n\u001b[0;31m    break\u001b[0m\n\u001b[0m    ^\u001b[0m\n\u001b[0;31mSyntaxError\u001b[0m\u001b[0;31m:\u001b[0m 'break' outside loop\n"
     ]
    }
   ],
   "source": []
  },
  {
   "cell_type": "code",
   "execution_count": 180,
   "id": "752759d3",
   "metadata": {},
   "outputs": [
    {
     "ename": "TypeError",
     "evalue": "'str' object is not callable",
     "output_type": "error",
     "traceback": [
      "\u001b[0;31m---------------------------------------------------------------------------\u001b[0m",
      "\u001b[0;31mTypeError\u001b[0m                                 Traceback (most recent call last)",
      "Cell \u001b[0;32mIn[180], line 1\u001b[0m\n\u001b[0;32m----> 1\u001b[0m line\u001b[38;5;241m=\u001b[39mfloat_marks(file2_contents[\u001b[38;5;241m1\u001b[39m])\n",
      "Cell \u001b[0;32mIn[176], line 3\u001b[0m, in \u001b[0;36mfloat_marks\u001b[0;34m(data_line)\u001b[0m\n\u001b[1;32m      1\u001b[0m \u001b[38;5;28;01mdef\u001b[39;00m \u001b[38;5;21mfloat_marks\u001b[39m(data_line):\n\u001b[1;32m      2\u001b[0m     line\u001b[38;5;241m=\u001b[39m[]\n\u001b[0;32m----> 3\u001b[0m     \u001b[38;5;28;01mfor\u001b[39;00m i \u001b[38;5;129;01min\u001b[39;00m data_line(\u001b[38;5;241m2\u001b[39m)\u001b[38;5;241m.\u001b[39mstrip()\u001b[38;5;241m.\u001b[39msplit(\u001b[38;5;124m'\u001b[39m\u001b[38;5;124m,\u001b[39m\u001b[38;5;124m'\u001b[39m):\n\u001b[1;32m      4\u001b[0m         \u001b[38;5;28;01mif\u001b[39;00m i\u001b[38;5;241m==\u001b[39m\u001b[38;5;241m0\u001b[39m:\n\u001b[1;32m      5\u001b[0m             \u001b[38;5;28;01mbreak\u001b[39;00m\n",
      "\u001b[0;31mTypeError\u001b[0m: 'str' object is not callable"
     ]
    }
   ],
   "source": [
    "line=float_marks(file2_contents[1])"
   ]
  },
  {
   "cell_type": "code",
   "execution_count": null,
   "id": "39a15f95",
   "metadata": {},
   "outputs": [],
   "source": []
  },
  {
   "cell_type": "code",
   "execution_count": null,
   "id": "42e57b24",
   "metadata": {},
   "outputs": [],
   "source": []
  },
  {
   "cell_type": "code",
   "execution_count": null,
   "id": "6c1481ec",
   "metadata": {},
   "outputs": [],
   "source": []
  },
  {
   "cell_type": "code",
   "execution_count": null,
   "id": "e8c55d92",
   "metadata": {},
   "outputs": [],
   "source": []
  },
  {
   "cell_type": "markdown",
   "id": "878b7a3b",
   "metadata": {},
   "source": [
    "## DOCUMENTATION"
   ]
  },
  {
   "cell_type": "code",
   "execution_count": 11,
   "id": "d1212234",
   "metadata": {},
   "outputs": [],
   "source": [
    "def filter_even(number_list):\n",
    "    \"\"\"Calculates the even numbers\"\"\"\n",
    "    result_list=[]\n",
    "    for val in number_list:\n",
    "        if val % 2==0:\n",
    "            print(\"number is even, adding to the list\")\n",
    "            result_list.append(val)\n",
    "    return result_list"
   ]
  },
  {
   "cell_type": "code",
   "execution_count": 12,
   "id": "a071ab22",
   "metadata": {},
   "outputs": [
    {
     "name": "stdout",
     "output_type": "stream",
     "text": [
      "Help on function filter_even in module __main__:\n",
      "\n",
      "filter_even(number_list)\n",
      "    Calculates the even numbers\n",
      "\n"
     ]
    }
   ],
   "source": [
    "help(filter_even)"
   ]
  },
  {
   "cell_type": "code",
   "execution_count": null,
   "id": "f2fae466",
   "metadata": {},
   "outputs": [],
   "source": []
  }
 ],
 "metadata": {
  "kernelspec": {
   "display_name": "Python 3 (ipykernel)",
   "language": "python",
   "name": "python3"
  },
  "language_info": {
   "codemirror_mode": {
    "name": "ipython",
    "version": 3
   },
   "file_extension": ".py",
   "mimetype": "text/x-python",
   "name": "python",
   "nbconvert_exporter": "python",
   "pygments_lexer": "ipython3",
   "version": "3.11.5"
  }
 },
 "nbformat": 4,
 "nbformat_minor": 5
}
